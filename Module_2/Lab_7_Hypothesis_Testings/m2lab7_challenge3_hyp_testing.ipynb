{
 "cells": [
  {
   "cell_type": "markdown",
   "metadata": {},
   "source": [
    "# Before your start:\n",
    "- Read the README.md file\n",
    "- Comment as much as you can and use the resources (README.md file)\n",
    "- Happy learning!"
   ]
  },
  {
   "cell_type": "code",
   "execution_count": 2,
   "metadata": {},
   "outputs": [],
   "source": [
    "import numpy as np\n",
    "import pandas as pd\n",
    "import matplotlib.pyplot as plt\n",
    "import scipy.stats as stats\n",
    "from scipy.stats import norm, ttest_1samp"
   ]
  },
  {
   "cell_type": "markdown",
   "metadata": {},
   "source": [
    "# Challenge 1 - Exploring the Data\n",
    "\n",
    "In this challenge, we will examine all salaries of employees of the City of Chicago. We will start by loading the dataset and examining its contents. Please, load the data using Ironhack's database (db: employees, table: employees_advanced)."
   ]
  },
  {
   "cell_type": "code",
   "execution_count": 3,
   "metadata": {},
   "outputs": [],
   "source": [
    "# Your code here:\n",
    "sal = pd.read_csv('../dev/DAFT_0116_forked/module_2/Lab_7_Hypothesis-Testing/Employees_advanced.csv')"
   ]
  },
  {
   "cell_type": "markdown",
   "metadata": {},
   "source": [
    "Examine the `salaries` dataset using the `head` function below."
   ]
  },
  {
   "cell_type": "code",
   "execution_count": 21,
   "metadata": {},
   "outputs": [
    {
     "data": {
      "text/html": [
       "<div>\n",
       "<style scoped>\n",
       "    .dataframe tbody tr th:only-of-type {\n",
       "        vertical-align: middle;\n",
       "    }\n",
       "\n",
       "    .dataframe tbody tr th {\n",
       "        vertical-align: top;\n",
       "    }\n",
       "\n",
       "    .dataframe thead th {\n",
       "        text-align: right;\n",
       "    }\n",
       "</style>\n",
       "<table border=\"1\" class=\"dataframe\">\n",
       "  <thead>\n",
       "    <tr style=\"text-align: right;\">\n",
       "      <th></th>\n",
       "      <th>Name</th>\n",
       "      <th>Job Titles</th>\n",
       "      <th>Department</th>\n",
       "      <th>Full or Part-Time</th>\n",
       "      <th>Salary or Hourly</th>\n",
       "      <th>Typical Hours</th>\n",
       "      <th>Annual Salary</th>\n",
       "      <th>Hourly Rate</th>\n",
       "    </tr>\n",
       "  </thead>\n",
       "  <tbody>\n",
       "    <tr>\n",
       "      <th>0</th>\n",
       "      <td>AARON,  JEFFERY M</td>\n",
       "      <td>SERGEANT</td>\n",
       "      <td>POLICE</td>\n",
       "      <td>F</td>\n",
       "      <td>Salary</td>\n",
       "      <td>NaN</td>\n",
       "      <td>101442.0</td>\n",
       "      <td>NaN</td>\n",
       "    </tr>\n",
       "    <tr>\n",
       "      <th>1</th>\n",
       "      <td>AARON,  KARINA</td>\n",
       "      <td>POLICE OFFICER (ASSIGNED AS DETECTIVE)</td>\n",
       "      <td>POLICE</td>\n",
       "      <td>F</td>\n",
       "      <td>Salary</td>\n",
       "      <td>NaN</td>\n",
       "      <td>94122.0</td>\n",
       "      <td>NaN</td>\n",
       "    </tr>\n",
       "    <tr>\n",
       "      <th>2</th>\n",
       "      <td>AARON,  KIMBERLEI R</td>\n",
       "      <td>CHIEF CONTRACT EXPEDITER</td>\n",
       "      <td>GENERAL SERVICES</td>\n",
       "      <td>F</td>\n",
       "      <td>Salary</td>\n",
       "      <td>NaN</td>\n",
       "      <td>101592.0</td>\n",
       "      <td>NaN</td>\n",
       "    </tr>\n",
       "    <tr>\n",
       "      <th>3</th>\n",
       "      <td>ABAD JR,  VICENTE M</td>\n",
       "      <td>CIVIL ENGINEER IV</td>\n",
       "      <td>WATER MGMNT</td>\n",
       "      <td>F</td>\n",
       "      <td>Salary</td>\n",
       "      <td>NaN</td>\n",
       "      <td>110064.0</td>\n",
       "      <td>NaN</td>\n",
       "    </tr>\n",
       "    <tr>\n",
       "      <th>4</th>\n",
       "      <td>ABASCAL,  REECE E</td>\n",
       "      <td>TRAFFIC CONTROL AIDE-HOURLY</td>\n",
       "      <td>OEMC</td>\n",
       "      <td>P</td>\n",
       "      <td>Hourly</td>\n",
       "      <td>20.0</td>\n",
       "      <td>NaN</td>\n",
       "      <td>19.86</td>\n",
       "    </tr>\n",
       "    <tr>\n",
       "      <th>5</th>\n",
       "      <td>ABBASI,  CHRISTOPHER</td>\n",
       "      <td>STAFF ASST TO THE ALDERMAN</td>\n",
       "      <td>CITY COUNCIL</td>\n",
       "      <td>F</td>\n",
       "      <td>Salary</td>\n",
       "      <td>NaN</td>\n",
       "      <td>50436.0</td>\n",
       "      <td>NaN</td>\n",
       "    </tr>\n",
       "    <tr>\n",
       "      <th>6</th>\n",
       "      <td>ABBATACOLA,  ROBERT J</td>\n",
       "      <td>ELECTRICAL MECHANIC</td>\n",
       "      <td>AVIATION</td>\n",
       "      <td>F</td>\n",
       "      <td>Hourly</td>\n",
       "      <td>40.0</td>\n",
       "      <td>NaN</td>\n",
       "      <td>46.10</td>\n",
       "    </tr>\n",
       "    <tr>\n",
       "      <th>7</th>\n",
       "      <td>ABBATE,  JOSEPH L</td>\n",
       "      <td>POOL MOTOR TRUCK DRIVER</td>\n",
       "      <td>STREETS &amp; SAN</td>\n",
       "      <td>F</td>\n",
       "      <td>Hourly</td>\n",
       "      <td>40.0</td>\n",
       "      <td>NaN</td>\n",
       "      <td>35.60</td>\n",
       "    </tr>\n",
       "    <tr>\n",
       "      <th>8</th>\n",
       "      <td>ABBATEMARCO,  JAMES J</td>\n",
       "      <td>FIRE ENGINEER-EMT</td>\n",
       "      <td>FIRE</td>\n",
       "      <td>F</td>\n",
       "      <td>Salary</td>\n",
       "      <td>NaN</td>\n",
       "      <td>103350.0</td>\n",
       "      <td>NaN</td>\n",
       "    </tr>\n",
       "    <tr>\n",
       "      <th>9</th>\n",
       "      <td>ABBATE,  TERRY M</td>\n",
       "      <td>POLICE OFFICER</td>\n",
       "      <td>POLICE</td>\n",
       "      <td>F</td>\n",
       "      <td>Salary</td>\n",
       "      <td>NaN</td>\n",
       "      <td>93354.0</td>\n",
       "      <td>NaN</td>\n",
       "    </tr>\n",
       "    <tr>\n",
       "      <th>10</th>\n",
       "      <td>ABBOTT,  BETTY L</td>\n",
       "      <td>FOSTER GRANDPARENT</td>\n",
       "      <td>FAMILY &amp; SUPPORT</td>\n",
       "      <td>P</td>\n",
       "      <td>Hourly</td>\n",
       "      <td>20.0</td>\n",
       "      <td>NaN</td>\n",
       "      <td>2.65</td>\n",
       "    </tr>\n",
       "    <tr>\n",
       "      <th>11</th>\n",
       "      <td>ABDALLAH,  ZAID</td>\n",
       "      <td>POLICE OFFICER</td>\n",
       "      <td>POLICE</td>\n",
       "      <td>F</td>\n",
       "      <td>Salary</td>\n",
       "      <td>NaN</td>\n",
       "      <td>84054.0</td>\n",
       "      <td>NaN</td>\n",
       "    </tr>\n",
       "    <tr>\n",
       "      <th>12</th>\n",
       "      <td>ABDELHADI,  ABDALMAHD</td>\n",
       "      <td>POLICE OFFICER</td>\n",
       "      <td>POLICE</td>\n",
       "      <td>F</td>\n",
       "      <td>Salary</td>\n",
       "      <td>NaN</td>\n",
       "      <td>87006.0</td>\n",
       "      <td>NaN</td>\n",
       "    </tr>\n",
       "    <tr>\n",
       "      <th>13</th>\n",
       "      <td>ABDELLATIF,  AREF R</td>\n",
       "      <td>FIREFIGHTER (PER ARBITRATORS AWARD)-PARAMEDIC</td>\n",
       "      <td>FIRE</td>\n",
       "      <td>F</td>\n",
       "      <td>Salary</td>\n",
       "      <td>NaN</td>\n",
       "      <td>102228.0</td>\n",
       "      <td>NaN</td>\n",
       "    </tr>\n",
       "    <tr>\n",
       "      <th>14</th>\n",
       "      <td>ABDELMAJEID,  AZIZ</td>\n",
       "      <td>POLICE OFFICER</td>\n",
       "      <td>POLICE</td>\n",
       "      <td>F</td>\n",
       "      <td>Salary</td>\n",
       "      <td>NaN</td>\n",
       "      <td>84054.0</td>\n",
       "      <td>NaN</td>\n",
       "    </tr>\n",
       "    <tr>\n",
       "      <th>15</th>\n",
       "      <td>ABDOLLAHZADEH,  ALI</td>\n",
       "      <td>FIREFIGHTER/PARAMEDIC</td>\n",
       "      <td>FIRE</td>\n",
       "      <td>F</td>\n",
       "      <td>Salary</td>\n",
       "      <td>NaN</td>\n",
       "      <td>91272.0</td>\n",
       "      <td>NaN</td>\n",
       "    </tr>\n",
       "    <tr>\n",
       "      <th>16</th>\n",
       "      <td>ABDUL-KARIM,  MUHAMMAD A</td>\n",
       "      <td>ENGINEERING TECHNICIAN VI</td>\n",
       "      <td>WATER MGMNT</td>\n",
       "      <td>F</td>\n",
       "      <td>Salary</td>\n",
       "      <td>NaN</td>\n",
       "      <td>111492.0</td>\n",
       "      <td>NaN</td>\n",
       "    </tr>\n",
       "    <tr>\n",
       "      <th>17</th>\n",
       "      <td>ABDULLAH,  DANIEL N</td>\n",
       "      <td>FIREFIGHTER-EMT</td>\n",
       "      <td>FIRE</td>\n",
       "      <td>F</td>\n",
       "      <td>Salary</td>\n",
       "      <td>NaN</td>\n",
       "      <td>95484.0</td>\n",
       "      <td>NaN</td>\n",
       "    </tr>\n",
       "    <tr>\n",
       "      <th>18</th>\n",
       "      <td>ABDULLAH,  LAKENYA N</td>\n",
       "      <td>CROSSING GUARD</td>\n",
       "      <td>OEMC</td>\n",
       "      <td>P</td>\n",
       "      <td>Hourly</td>\n",
       "      <td>20.0</td>\n",
       "      <td>NaN</td>\n",
       "      <td>17.68</td>\n",
       "    </tr>\n",
       "    <tr>\n",
       "      <th>19</th>\n",
       "      <td>ABDULLAH,  RASHAD</td>\n",
       "      <td>ELECTRICAL MECHANIC (AUTOMOTIVE)</td>\n",
       "      <td>GENERAL SERVICES</td>\n",
       "      <td>F</td>\n",
       "      <td>Hourly</td>\n",
       "      <td>40.0</td>\n",
       "      <td>NaN</td>\n",
       "      <td>46.10</td>\n",
       "    </tr>\n",
       "  </tbody>\n",
       "</table>\n",
       "</div>"
      ],
      "text/plain": [
       "                        Name                                     Job Titles  \\\n",
       "0          AARON,  JEFFERY M                                       SERGEANT   \n",
       "1            AARON,  KARINA          POLICE OFFICER (ASSIGNED AS DETECTIVE)   \n",
       "2        AARON,  KIMBERLEI R                       CHIEF CONTRACT EXPEDITER   \n",
       "3        ABAD JR,  VICENTE M                              CIVIL ENGINEER IV   \n",
       "4          ABASCAL,  REECE E                    TRAFFIC CONTROL AIDE-HOURLY   \n",
       "5      ABBASI,  CHRISTOPHER                      STAFF ASST TO THE ALDERMAN   \n",
       "6      ABBATACOLA,  ROBERT J                            ELECTRICAL MECHANIC   \n",
       "7         ABBATE,  JOSEPH L                         POOL MOTOR TRUCK DRIVER   \n",
       "8      ABBATEMARCO,  JAMES J                              FIRE ENGINEER-EMT   \n",
       "9           ABBATE,  TERRY M                                 POLICE OFFICER   \n",
       "10          ABBOTT,  BETTY L                             FOSTER GRANDPARENT   \n",
       "11          ABDALLAH,  ZAID                                  POLICE OFFICER   \n",
       "12    ABDELHADI,  ABDALMAHD                                  POLICE OFFICER   \n",
       "13       ABDELLATIF,  AREF R  FIREFIGHTER (PER ARBITRATORS AWARD)-PARAMEDIC   \n",
       "14       ABDELMAJEID,  AZIZ                                  POLICE OFFICER   \n",
       "15      ABDOLLAHZADEH,  ALI                           FIREFIGHTER/PARAMEDIC   \n",
       "16  ABDUL-KARIM,  MUHAMMAD A                      ENGINEERING TECHNICIAN VI   \n",
       "17       ABDULLAH,  DANIEL N                                FIREFIGHTER-EMT   \n",
       "18      ABDULLAH,  LAKENYA N                                 CROSSING GUARD   \n",
       "19        ABDULLAH,  RASHAD                ELECTRICAL MECHANIC (AUTOMOTIVE)   \n",
       "\n",
       "          Department Full or Part-Time Salary or Hourly  Typical Hours  \\\n",
       "0             POLICE                 F           Salary            NaN   \n",
       "1             POLICE                 F           Salary            NaN   \n",
       "2   GENERAL SERVICES                 F           Salary            NaN   \n",
       "3        WATER MGMNT                 F           Salary            NaN   \n",
       "4               OEMC                 P           Hourly           20.0   \n",
       "5       CITY COUNCIL                 F           Salary            NaN   \n",
       "6           AVIATION                 F           Hourly           40.0   \n",
       "7      STREETS & SAN                 F           Hourly           40.0   \n",
       "8               FIRE                 F           Salary            NaN   \n",
       "9             POLICE                 F           Salary            NaN   \n",
       "10  FAMILY & SUPPORT                 P           Hourly           20.0   \n",
       "11            POLICE                 F           Salary            NaN   \n",
       "12            POLICE                 F           Salary            NaN   \n",
       "13              FIRE                 F           Salary            NaN   \n",
       "14            POLICE                 F           Salary            NaN   \n",
       "15              FIRE                 F           Salary            NaN   \n",
       "16       WATER MGMNT                 F           Salary            NaN   \n",
       "17              FIRE                 F           Salary            NaN   \n",
       "18              OEMC                 P           Hourly           20.0   \n",
       "19  GENERAL SERVICES                 F           Hourly           40.0   \n",
       "\n",
       "    Annual Salary  Hourly Rate  \n",
       "0        101442.0          NaN  \n",
       "1         94122.0          NaN  \n",
       "2        101592.0          NaN  \n",
       "3        110064.0          NaN  \n",
       "4             NaN        19.86  \n",
       "5         50436.0          NaN  \n",
       "6             NaN        46.10  \n",
       "7             NaN        35.60  \n",
       "8        103350.0          NaN  \n",
       "9         93354.0          NaN  \n",
       "10            NaN         2.65  \n",
       "11        84054.0          NaN  \n",
       "12        87006.0          NaN  \n",
       "13       102228.0          NaN  \n",
       "14        84054.0          NaN  \n",
       "15        91272.0          NaN  \n",
       "16       111492.0          NaN  \n",
       "17        95484.0          NaN  \n",
       "18            NaN        17.68  \n",
       "19            NaN        46.10  "
      ]
     },
     "execution_count": 21,
     "metadata": {},
     "output_type": "execute_result"
    }
   ],
   "source": [
    "# Your code here:\n",
    "sal.head(20)"
   ]
  },
  {
   "cell_type": "markdown",
   "metadata": {},
   "source": [
    "We see from looking at the `head` function that there is quite a bit of missing data. Let's examine how much missing data is in each column. Produce this output in the cell below"
   ]
  },
  {
   "cell_type": "code",
   "execution_count": 5,
   "metadata": {},
   "outputs": [
    {
     "data": {
      "text/plain": [
       "Name                     0\n",
       "Job Titles               0\n",
       "Department               0\n",
       "Full or Part-Time        0\n",
       "Salary or Hourly         0\n",
       "Typical Hours        25161\n",
       "Annual Salary         8022\n",
       "Hourly Rate          25161\n",
       "dtype: int64"
      ]
     },
     "execution_count": 5,
     "metadata": {},
     "output_type": "execute_result"
    }
   ],
   "source": [
    "# Your code here:\n",
    "sal.isna().sum()\n"
   ]
  },
  {
   "cell_type": "markdown",
   "metadata": {},
   "source": [
    "Let's also look at the count of hourly vs. salaried employees. Write the code in the cell below"
   ]
  },
  {
   "cell_type": "code",
   "execution_count": 7,
   "metadata": {},
   "outputs": [
    {
     "data": {
      "text/plain": [
       "Salary    25161\n",
       "Hourly     8022\n",
       "Name: Salary or Hourly, dtype: int64"
      ]
     },
     "execution_count": 7,
     "metadata": {},
     "output_type": "execute_result"
    }
   ],
   "source": [
    "# Your code here:\n",
    "sal['Salary or Hourly'].value_counts()\n",
    "\n"
   ]
  },
  {
   "cell_type": "markdown",
   "metadata": {},
   "source": [
    "What this information indicates is that the table contains information about two types of employees - salaried and hourly. Some columns apply only to one type of employee while other columns only apply to another kind. This is why there are so many missing values. Therefore, we will not do anything to handle the missing values."
   ]
  },
  {
   "cell_type": "markdown",
   "metadata": {},
   "source": [
    "There are different departments in the city. List all departments and the count of employees in each department."
   ]
  },
  {
   "cell_type": "code",
   "execution_count": 10,
   "metadata": {},
   "outputs": [
    {
     "data": {
      "text/plain": [
       "Department             Full or Part-Time\n",
       "POLICE                 F                    13404\n",
       "FIRE                   F                     4641\n",
       "STREETS & SAN          F                     2024\n",
       "WATER MGMNT            F                     1879\n",
       "AVIATION               F                     1611\n",
       "OEMC                   P                     1229\n",
       "TRANSPORTN             F                     1140\n",
       "GENERAL SERVICES       F                      980\n",
       "OEMC                   F                      873\n",
       "PUBLIC LIBRARY         F                      727\n",
       "FINANCE                F                      558\n",
       "HEALTH                 F                      488\n",
       "LAW                    F                      406\n",
       "CITY COUNCIL           F                      360\n",
       "FAMILY & SUPPORT       F                      329\n",
       "PUBLIC LIBRARY         P                      288\n",
       "FAMILY & SUPPORT       P                      286\n",
       "BUILDINGS              F                      269\n",
       "COMMUNITY DEVELOPMENT  F                      204\n",
       "STREETS & SAN          P                      174\n",
       "BUSINESS AFFAIRS       F                      164\n",
       "COPA                   F                      116\n",
       "BOARD OF ELECTION      F                      107\n",
       "DoIT                   F                       99\n",
       "PROCUREMENT            F                       92\n",
       "INSPECTOR GEN          F                       87\n",
       "MAYOR'S OFFICE         F                       84\n",
       "CITY CLERK             F                       84\n",
       "HUMAN RESOURCES        F                       75\n",
       "CULTURAL AFFAIRS       F                       65\n",
       "ANIMAL CONTRL          F                       62\n",
       "CITY COUNCIL           P                       51\n",
       "BUDGET & MGMT          F                       46\n",
       "ADMIN HEARNG           F                       39\n",
       "DISABILITIES           F                       28\n",
       "TREASURER              F                       22\n",
       "ANIMAL CONTRL          P                       19\n",
       "AVIATION               P                       18\n",
       "HUMAN RELATIONS        F                       16\n",
       "POLICE                 P                       10\n",
       "BOARD OF ETHICS        F                        8\n",
       "BUSINESS AFFAIRS       P                        7\n",
       "HUMAN RESOURCES        P                        4\n",
       "COMMUNITY DEVELOPMENT  P                        3\n",
       "POLICE BOARD           F                        2\n",
       "FINANCE                P                        2\n",
       "LICENSE APPL COMM      F                        1\n",
       "LAW                    P                        1\n",
       "MAYOR'S OFFICE         P                        1\n",
       "dtype: int64"
      ]
     },
     "execution_count": 10,
     "metadata": {},
     "output_type": "execute_result"
    }
   ],
   "source": [
    "# Your code here:\n",
    "sal[['Department','Full or Part-Time']].value_counts()"
   ]
  },
  {
   "cell_type": "markdown",
   "metadata": {},
   "source": [
    "# Challenge 2 - Hypothesis Tests\n",
    "\n",
    "In this section of the lab, we will test whether the hourly wage of all hourly workers is significantly different from $30/hr. Import the correct one sample test function from scipy and perform the hypothesis test for a 95% two sided confidence interval."
   ]
  },
  {
   "cell_type": "code",
   "execution_count": 19,
   "metadata": {},
   "outputs": [
    {
     "name": "stdout",
     "output_type": "stream",
     "text": [
      "32.78855771628024 12.112572684276799\n"
     ]
    }
   ],
   "source": [
    "# Your code here:\n",
    "sal_hourly = sal[sal['Salary or Hourly'] == 'Hourly']\n",
    "sal_hr_mean = sal_hourly['Hourly Rate'].mean()\n",
    "sal_hr_std = sal_hourly['Hourly Rate'].std()\n",
    "print(sal_hr_mean, sal_hr_std)"
   ]
  },
  {
   "cell_type": "code",
   "execution_count": 20,
   "metadata": {},
   "outputs": [
    {
     "name": "stdout",
     "output_type": "stream",
     "text": [
      "1.9602597859561675 20.6198057854942\n"
     ]
    }
   ],
   "source": [
    "# H0 = mean sal = $30\n",
    "# H1 = mean sal <> $30 ==> 2 tails\n",
    "alpha = 0.05\n",
    "n = 8022\n",
    "df = n - 1\n",
    "\n",
    "tcritical = stats.t.ppf(1 - alpha / 2, df)\n",
    "t_score = (sal_hr_mean - 30)/(sal_hr_std/np.sqrt(n))\n",
    "\n",
    "print(tcritical, t_score)\n",
    "# reject H0\n"
   ]
  },
  {
   "cell_type": "code",
   "execution_count": null,
   "metadata": {},
   "outputs": [],
   "source": [
    "# # Generate a sample of random data with a mean of 10 and a standard deviation of 2\n",
    "# np.random.seed(0)\n",
    "# sample = np.random.normal(sal_hr_mean, sal_hr_std, n)\n",
    "\n",
    "# # Perform a two-tailed T-test to compare the mean of the sample to a population mean of 12. By default, this is 2 tailed. If 1 tail then pass the argument alternative='less'or 'greater'\n",
    "# t_statistic, p_value = ttest_1samp(sample, 12)"
   ]
  },
  {
   "cell_type": "markdown",
   "metadata": {},
   "source": [
    "We are also curious about salaries in the police force. The chief of police in Chicago claimed in a press briefing that salaries this year are higher than last year's mean of $86000/year a year for all salaried employees. Test this one sided hypothesis using a 95% confidence interval.\n",
    "\n",
    "Hint: A one tailed test has a p-value that is half of the two tailed p-value. If our hypothesis is greater than, then to reject, the test statistic must also be positive."
   ]
  },
  {
   "cell_type": "code",
   "execution_count": 69,
   "metadata": {},
   "outputs": [
    {
     "name": "stdout",
     "output_type": "stream",
     "text": [
      "86486.41450313339 18272.22829399308\n"
     ]
    }
   ],
   "source": [
    "sal_pol = sal[(sal['Department'] == 'POLICE') & (sal['Salary or Hourly'] == 'Salary')]\n",
    "sal_pol_mean = sal_pol['Annual Salary'].mean()\n",
    "sal_pol_std = sal_pol['Annual Salary'].std()\n",
    "print(sal_pol_mean, sal_pol_std)"
   ]
  },
  {
   "cell_type": "code",
   "execution_count": 24,
   "metadata": {},
   "outputs": [
    {
     "name": "stdout",
     "output_type": "stream",
     "text": [
      "1.6449673235204956 547.8011221023714\n"
     ]
    }
   ],
   "source": [
    "# Your code here:\n",
    "n = 13404\n",
    "df = n - 1\n",
    "tcritical = stats.t.ppf(1 - alpha, df)\n",
    "t_score = (sal_pol_mean - 30)/(sal_pol_std/np.sqrt(n))\n",
    "\n",
    "print(tcritical, t_score)\n",
    "# reject H0"
   ]
  },
  {
   "cell_type": "markdown",
   "metadata": {},
   "source": [
    "Using the `crosstab` function, find the department that has the most hourly workers. "
   ]
  },
  {
   "cell_type": "code",
   "execution_count": 29,
   "metadata": {},
   "outputs": [
    {
     "data": {
      "text/html": [
       "<div>\n",
       "<style scoped>\n",
       "    .dataframe tbody tr th:only-of-type {\n",
       "        vertical-align: middle;\n",
       "    }\n",
       "\n",
       "    .dataframe tbody tr th {\n",
       "        vertical-align: top;\n",
       "    }\n",
       "\n",
       "    .dataframe thead th {\n",
       "        text-align: right;\n",
       "    }\n",
       "</style>\n",
       "<table border=\"1\" class=\"dataframe\">\n",
       "  <thead>\n",
       "    <tr style=\"text-align: right;\">\n",
       "      <th>Salary or Hourly</th>\n",
       "      <th>Hourly</th>\n",
       "      <th>Salary</th>\n",
       "    </tr>\n",
       "    <tr>\n",
       "      <th>Department</th>\n",
       "      <th></th>\n",
       "      <th></th>\n",
       "    </tr>\n",
       "  </thead>\n",
       "  <tbody>\n",
       "    <tr>\n",
       "      <th>STREETS &amp; SAN</th>\n",
       "      <td>1862</td>\n",
       "      <td>336</td>\n",
       "    </tr>\n",
       "  </tbody>\n",
       "</table>\n",
       "</div>"
      ],
      "text/plain": [
       "Salary or Hourly  Hourly  Salary\n",
       "Department                      \n",
       "STREETS & SAN       1862     336"
      ]
     },
     "execution_count": 29,
     "metadata": {},
     "output_type": "execute_result"
    }
   ],
   "source": [
    "# Your code here:\n",
    "pd.crosstab(sal['Department'], sal['Salary or Hourly']).sort_values(by = 'Hourly', ascending=False).head(1)\n"
   ]
  },
  {
   "cell_type": "markdown",
   "metadata": {},
   "source": [
    "The workers from the department with the most hourly workers have complained that their hourly wage is less than $35/hour. Using a one sample t-test, test this one-sided hypothesis at the 95% confidence level."
   ]
  },
  {
   "cell_type": "code",
   "execution_count": 35,
   "metadata": {},
   "outputs": [
    {
     "name": "stdout",
     "output_type": "stream",
     "text": [
      "33.72837808807734 5.735241841459235\n",
      "-1.6456728276882668 -9.567447887848152\n"
     ]
    }
   ],
   "source": [
    "# Your code here:\n",
    "sal_ss = sal[(sal['Department'] == 'STREETS & SAN')&(sal['Salary or Hourly'] == 'Hourly')]\n",
    "sal_ss_mean = sal_ss['Hourly Rate'].mean()\n",
    "sal_ss_std = sal_ss['Hourly Rate'].std()\n",
    "print(sal_ss_mean, sal_ss_std)\n",
    "\n",
    "n = 1862\n",
    "df = n - 1\n",
    "tcritical = stats.t.ppf(alpha, df)\n",
    "t_score = (sal_ss_mean - 35)/(sal_ss_std/np.sqrt(n))\n",
    "\n",
    "print(tcritical, t_score)\n",
    "# reject H0\n"
   ]
  },
  {
   "cell_type": "code",
   "execution_count": 44,
   "metadata": {},
   "outputs": [
    {
     "name": "stdout",
     "output_type": "stream",
     "text": [
      "-1.6456728276882668 -9.567447887848152\n"
     ]
    }
   ],
   "source": [
    "t_statistic, p_value = ttest_1samp(sal_ss['Hourly Rate'], popmean = 35, alternative='less')\n",
    "tcritical = stats.t.ppf(alpha, sal_ss.shape[0]-1)\n",
    "print(tcritical, t_statistic)"
   ]
  },
  {
   "cell_type": "markdown",
   "metadata": {},
   "source": [
    "# Challenge 3: To practice - Constructing Confidence Intervals\n",
    "\n",
    "While testing our hypothesis is a great way to gather empirical evidence for accepting or rejecting the hypothesis, another way to gather evidence is by creating a confidence interval. A confidence interval gives us information about the true mean of the population. So for a 95% confidence interval, we are 95% sure that the mean of the population is within the confidence interval. \n",
    ").\n",
    "\n",
    "To read more about confidence intervals, click [here](https://en.wikipedia.org/wiki/Confidence_interval).\n",
    "\n",
    "\n",
    "In the cell below, we will construct a 95% confidence interval for the mean hourly wage of all hourly workers. \n",
    "\n",
    "The confidence interval is computed in SciPy using the `t.interval` function. You can read more about this function [here](https://docs.scipy.org/doc/scipy-0.14.0/reference/generated/scipy.stats.t.html).\n",
    "\n",
    "To compute the confidence interval of the hourly wage, use the 0.95 for the confidence level, number of rows - 1 for degrees of freedom, the mean of the sample for the location parameter and the standard error for the scale. The standard error can be computed using [this](https://docs.scipy.org/doc/scipy/reference/generated/scipy.stats.sem.html) function in SciPy."
   ]
  },
  {
   "cell_type": "code",
   "execution_count": 61,
   "metadata": {},
   "outputs": [
    {
     "name": "stdout",
     "output_type": "stream",
     "text": [
      "(9.04476857882128, 56.5323468537392) (32.029040887731604, 33.54807454482887)\n"
     ]
    }
   ],
   "source": [
    "# Your code here:\n",
    "df = sal_hourly['Hourly Rate']\n",
    "ci = 0.95\n",
    "conf_int = stats.t.interval(ci, df.shape[0]-1, loc=df.mean(), scale = df.std())\n",
    "conf_int\n",
    "\n",
    "\n",
    "\n"
   ]
  },
  {
   "cell_type": "markdown",
   "metadata": {},
   "source": [
    "Now construct the 95% confidence interval for all salaried employeed in the police in the cell below."
   ]
  },
  {
   "cell_type": "code",
   "execution_count": 70,
   "metadata": {},
   "outputs": [
    {
     "name": "stdout",
     "output_type": "stream",
     "text": [
      "(50670.270739577354, 122302.55826668942) (50671.60678895816, 122301.22221730862) 18271.54668517837\n",
      "18272.22829399308\n"
     ]
    }
   ],
   "source": [
    "# Your code here:\n",
    "df = sal_pol['Annual Salary']\n",
    "ci = 0.95\n",
    "conf_int = stats.t.interval(ci, df.shape[0]-1, loc=df.mean(), scale = df.std())\n",
    "conf_int\n",
    "\n",
    "sem = stats.sem(sal_pol['Annual Salary'], ddof=df.shape[0]-1, nan_policy='omit')\n",
    "conf_int2 = stats.t.interval(ci, df.shape[0]-1, loc=df.mean(), scale = sem )\n",
    "conf_int2\n",
    "\n",
    "print(conf_int, conf_int2, sem)\n",
    "print(df.std())\n"
   ]
  },
  {
   "cell_type": "markdown",
   "metadata": {},
   "source": [
    "# Bonus Challenge - Hypothesis Tests of Proportions\n",
    "\n",
    "Another type of one sample test is a hypothesis test of proportions. In this test, we examine whether the proportion of a group in our sample is significantly different than a fraction. \n",
    "\n",
    "You can read more about one sample proportion tests [here](http://sphweb.bumc.bu.edu/otlt/MPH-Modules/BS/SAS/SAS6-CategoricalData/SAS6-CategoricalData2.html).\n",
    "\n",
    "In the cell below, use the `proportions_ztest` function from `statsmodels` to perform a hypothesis test that will determine whether the number of hourly workers in the City of Chicago is significantly different from 25% at the 95% confidence level."
   ]
  },
  {
   "cell_type": "code",
   "execution_count": 13,
   "metadata": {},
   "outputs": [],
   "source": [
    "# Your code here:\n",
    "\n"
   ]
  }
 ],
 "metadata": {
  "kernelspec": {
   "display_name": "Python 3",
   "language": "python",
   "name": "python3"
  },
  "language_info": {
   "codemirror_mode": {
    "name": "ipython",
    "version": 3
   },
   "file_extension": ".py",
   "mimetype": "text/x-python",
   "name": "python",
   "nbconvert_exporter": "python",
   "pygments_lexer": "ipython3",
   "version": "3.10.4"
  },
  "vscode": {
   "interpreter": {
    "hash": "096d13a557f1eefbcff4e46a0332d49d83cfff748d823998326338428f68fa0f"
   }
  }
 },
 "nbformat": 4,
 "nbformat_minor": 2
}
