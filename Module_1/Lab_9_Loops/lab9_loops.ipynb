{
 "cells": [
  {
   "cell_type": "markdown",
   "metadata": {},
   "source": [
    "# Loops\n",
    "\n",
    "Complete the following set of exercises to solidify your knowledge for Loops."
   ]
  },
  {
   "cell_type": "markdown",
   "metadata": {},
   "source": [
    "#### 1. Print first 10 natural numbers using while loop"
   ]
  },
  {
   "cell_type": "code",
   "execution_count": 5,
   "metadata": {},
   "outputs": [
    {
     "name": "stdout",
     "output_type": "stream",
     "text": [
      "1\n",
      "2\n",
      "3\n",
      "4\n",
      "5\n",
      "6\n",
      "7\n",
      "8\n",
      "9\n",
      "10\n"
     ]
    }
   ],
   "source": [
    "x = 1\n",
    "while x < 10:\n",
    "    print(x)\n",
    "    x += 1\n",
    "print(x)"
   ]
  },
  {
   "cell_type": "markdown",
   "metadata": {},
   "source": [
    "#### 2. Display numbers from a list using loop\n",
    "Write a program to display only those numbers from a list that satisfy the following conditions\n",
    "\n",
    "The number must be divisible by five\n",
    "\n",
    "If the number is greater than 150, then skip it and move to the next number\n",
    "\n",
    "If the number is greater than 500, then stop the loop\n",
    "\n",
    "numbers = [12, 75, 150, 180, 145, 525, 50]"
   ]
  },
  {
   "cell_type": "code",
   "execution_count": 8,
   "metadata": {},
   "outputs": [
    {
     "data": {
      "text/plain": [
       "[75, 145, 50]"
      ]
     },
     "execution_count": 8,
     "metadata": {},
     "output_type": "execute_result"
    }
   ],
   "source": [
    "numbers = [12, 75, 150, 180, 145, 525, 50]\n",
    "new_list = []\n",
    "\n",
    "for number in numbers:\n",
    "    if number%5 == 0 and number < 150:\n",
    "        new_list.append(number)\n",
    "    elif number > 150:\n",
    "        continue\n",
    "    elif number > 500:\n",
    "        break\n",
    "        \n",
    "new_list\n",
    "    \n"
   ]
  },
  {
   "cell_type": "markdown",
   "metadata": {},
   "source": [
    "#### 3.Write a Python program to check the validity of a password (input from users).\n",
    "\n",
    "Validation :\n",
    "\n",
    "At least 1 letter between [a-z] and 1 letter between [A-Z].\n",
    "\n",
    "At least 1 number between [0-9].\n",
    "\n",
    "At least 1 character from [$#@].\n",
    "\n",
    "Minimum length 6 characters.\n",
    "\n",
    "Maximum length 16 characters."
   ]
  },
  {
   "cell_type": "code",
   "execution_count": 59,
   "metadata": {},
   "outputs": [
    {
     "name": "stdout",
     "output_type": "stream",
     "text": [
      "Please input your password: todayis@go0daY\n",
      "password accepted\n"
     ]
    }
   ],
   "source": [
    "password = input(\"Please input your password: \")\n",
    "special_char = ['$','#','@']\n",
    "error = \"Error - Please input at least 1 uppercase, 1 lowercase, 1 number and either of $, #, @ character\"\n",
    "import re\n",
    "\n",
    "flag_char = False\n",
    "flag_num = False\n",
    "flag_lower = False\n",
    "flag_upper = False\n",
    "\n",
    "if len(password)>16 or len(password)<6:\n",
    "    print(\"Please enter a password within 6 - 16 characters\")\n",
    "else:\n",
    "    for i in password:\n",
    "        if i in special_char:\n",
    "            flag_char = True\n",
    "        if i.isnumeric():\n",
    "            flag_num = True\n",
    "        if i.isupper():\n",
    "            flag_upper = True\n",
    "        if i.islower():\n",
    "            flag_lower = True\n",
    "\n",
    "if flag_char and flag_num and flag_upper and flag_lower:\n",
    "    print(\"password accepted\")\n",
    "else:\n",
    "    print(error)"
   ]
  },
  {
   "cell_type": "markdown",
   "metadata": {},
   "source": [
    "#### 4. Break the loop when x is 6, and see what happens with the else block"
   ]
  },
  {
   "cell_type": "code",
   "execution_count": 76,
   "metadata": {},
   "outputs": [
    {
     "name": "stdout",
     "output_type": "stream",
     "text": [
      "[1]\n",
      "[1, 2]\n",
      "[1, 2, 3]\n",
      "[1, 2, 3, 4]\n",
      "[1, 2, 3, 4, 5]\n",
      "6 cannot be added to test2 list\n",
      "7 cannot be added to test2 list\n",
      "8 cannot be added to test2 list\n",
      "9 cannot be added to test2 list\n",
      "10 cannot be added to test2 list\n"
     ]
    }
   ],
   "source": [
    "# The question is asking you to test\n",
    "# break at 6\n",
    "# does the \"else:\" block get executed \n",
    "# if you break out of a while loop early.\n",
    "\n",
    "test = [1,2,3,4,5,6,7,8,9,10]\n",
    "test2 = []\n",
    "for item in test:\n",
    "    while item < 6:\n",
    "        test2.append(item)\n",
    "        print(test2)\n",
    "        break\n",
    "    else:\n",
    "#         print(test2)\n",
    "        print(item, \"cannot be added to test2 list\")\n"
   ]
  },
  {
   "cell_type": "markdown",
   "metadata": {},
   "source": [
    "#### 5. Write a Python program to calculate the sum and average of n integer numbers (input from the user). Input 0 to finish.\n"
   ]
  },
  {
   "cell_type": "code",
   "execution_count": 57,
   "metadata": {},
   "outputs": [
    {
     "name": "stdout",
     "output_type": "stream",
     "text": [
      "Please input a list of integer to calculate sum and average. Input 0 to finish: 2\n",
      "Please input a list of integer to calculate sum and average. Input 0 to finish: 3\n",
      "Please input a list of integer to calculate sum and average. Input 0 to finish: 4\n",
      "Please input a list of integer to calculate sum and average. Input 0 to finish: 0\n",
      "[2, 3, 4]\n",
      "For this list of integers, the sum is: 9 and the average is: 3.0\n"
     ]
    }
   ],
   "source": [
    "# num_of_int = int(input(\"How many number would you like to calculate their sum & average?\")\n",
    "message = \"Please input a list of integer to calculate sum and average. Input 0 to finish: \"\n",
    "int_list = []\n",
    "num = int(input(message))\n",
    "if num == 0:\n",
    "    print(\"Operation finished\")\n",
    "else:\n",
    "    while num != 0:\n",
    "        int_list.append(num)\n",
    "        num = int(input(message))\n",
    "        if num == 0:\n",
    "            break\n",
    "print(int_list)\n",
    "\n",
    "sum_int = 0\n",
    "count_int = 0\n",
    "for i in int_list:\n",
    "    sum_int += i\n",
    "    count_int += 1\n",
    "\n",
    "average = sum_int/count_int\n",
    "print(\"For this list of integers, the sum is:\",sum_int, \"and the average is:\", average)\n",
    "\n",
    "    \n",
    "\n",
    "\n",
    "    "
   ]
  },
  {
   "cell_type": "code",
   "execution_count": null,
   "metadata": {},
   "outputs": [],
   "source": []
  }
 ],
 "metadata": {
  "kernelspec": {
   "display_name": "Python 3 (ipykernel)",
   "language": "python",
   "name": "python3"
  },
  "language_info": {
   "codemirror_mode": {
    "name": "ipython",
    "version": 3
   },
   "file_extension": ".py",
   "mimetype": "text/x-python",
   "name": "python",
   "nbconvert_exporter": "python",
   "pygments_lexer": "ipython3",
   "version": "3.9.13"
  }
 },
 "nbformat": 4,
 "nbformat_minor": 2
}
