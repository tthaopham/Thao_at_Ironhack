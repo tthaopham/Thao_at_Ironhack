{
 "cells": [
  {
   "cell_type": "markdown",
   "id": "02edab8e",
   "metadata": {},
   "source": [
    "* [Counting Sheeps] (https://www.codewars.com/kata/54edbc7200b811e956000556)\n",
    "* [Removing elements] (https://www.codewars.com/kata/5769b3802ae6f8e4890009d2)\n",
    "* [Convert number to reversed array of digits](https://www.codewars.com/kata/5583090cbe83f4fd8c000051)\n",
    "* [Square every digit] (https://www.codewars.com/kata/546e2562b03326a88e000020)\n",
    "* [Counting Total Occurence Of Specific Digits](https://www.codewars.com/kata/56311e4fdd811616810000ce)"
   ]
  },
  {
   "cell_type": "markdown",
   "id": "36737360",
   "metadata": {},
   "source": [
    "1_codewar_countsheep"
   ]
  },
  {
   "cell_type": "code",
   "execution_count": 1,
   "id": "7262c437",
   "metadata": {},
   "outputs": [
    {
     "data": {
      "text/plain": [
       "17"
      ]
     },
     "execution_count": 1,
     "metadata": {},
     "output_type": "execute_result"
    }
   ],
   "source": [
    "def count_sheeps(sheep):\n",
    "    return sheep.count(True)\n",
    "\n",
    "sheep = [True,  True,  True,  False,\n",
    "  True,  True,  True,  True ,\n",
    "  True,  False, True,  False,\n",
    "  True,  False, False, True ,\n",
    "  True,  True,  True,  True ,\n",
    "  False, False, True,  True]\n",
    "\n",
    "count_sheeps(sheep)"
   ]
  },
  {
   "cell_type": "markdown",
   "id": "baa9817b",
   "metadata": {},
   "source": [
    "2_codewar_remove2nditem"
   ]
  },
  {
   "cell_type": "code",
   "execution_count": 3,
   "id": "92189d88",
   "metadata": {},
   "outputs": [
    {
     "data": {
      "text/plain": [
       "['hello', 'my', 'friend', 'magic heh?']"
      ]
     },
     "execution_count": 3,
     "metadata": {},
     "output_type": "execute_result"
    }
   ],
   "source": [
    "def remove_every_other(my_list):\n",
    "    return my_list[::2]\n",
    "my_list = ['hello','darkness','my','old','friend',\".\",\"magic heh?\"]\n",
    "remove_every_other(my_list)"
   ]
  },
  {
   "cell_type": "markdown",
   "id": "d6d6d93f",
   "metadata": {},
   "source": [
    "3_codewar_digitize"
   ]
  },
  {
   "cell_type": "code",
   "execution_count": 8,
   "id": "8fa7dfa5",
   "metadata": {},
   "outputs": [
    {
     "data": {
      "text/plain": [
       "[0, 4, 3, 2, 1]"
      ]
     },
     "execution_count": 8,
     "metadata": {},
     "output_type": "execute_result"
    }
   ],
   "source": [
    "# def digitize(n):\n",
    "#     output = []\n",
    "#     if n == 0:\n",
    "#         output.append(0)\n",
    "#     else:\n",
    "#         str_n = str(n)\n",
    "#         length = len(str_n)\n",
    "#         i = 1\n",
    "#         for d in str_n:\n",
    "#             output.append(int(str_n[-i]))\n",
    "#             i += 1\n",
    "#     return output\n",
    "\n",
    "\n",
    "\n",
    "def digitize(n):\n",
    "    str_n = str(n)\n",
    "    output = [int(d) for d in str_n[::-1]]\n",
    "    return output\n",
    "\n",
    "n = 12340\n",
    "digitize(n)"
   ]
  },
  {
   "cell_type": "markdown",
   "id": "04937c59",
   "metadata": {},
   "source": [
    "4_codewar_squaredigit"
   ]
  },
  {
   "cell_type": "code",
   "execution_count": 23,
   "id": "21af64bc",
   "metadata": {},
   "outputs": [
    {
     "data": {
      "text/plain": [
       "'149160'"
      ]
     },
     "execution_count": 23,
     "metadata": {},
     "output_type": "execute_result"
    }
   ],
   "source": [
    "def square_digits(num):\n",
    "    str_n = str(num)\n",
    "    output = [int(d)**2 for d in str_n]\n",
    "    final = \"\".join(map(str, output))\n",
    "    return int(final)\n",
    "\n",
    "# def square_digits(num):\n",
    "#     return int(''.join(str(int(d)**2) for d in str(num)))\n",
    "\n",
    "num = 12340\n",
    "square_digits(num)"
   ]
  },
  {
   "cell_type": "markdown",
   "id": "2695a398",
   "metadata": {},
   "source": [
    "5_codewar_occurrence"
   ]
  },
  {
   "cell_type": "code",
   "execution_count": 53,
   "id": "10c06113",
   "metadata": {},
   "outputs": [
    {
     "data": {
      "text/plain": [
       "[(1, 3), (9, 2), (4, 0)]"
      ]
     },
     "execution_count": 53,
     "metadata": {},
     "output_type": "execute_result"
    }
   ],
   "source": [
    "import re\n",
    "class List(object):\n",
    "    def count_spec_digits(self, integers_list, digits_list):\n",
    "        int_str = \"\".join(map(str, integers_list))\n",
    "        int_digit = re.findall(r'[0-9]', int_str)\n",
    "        \n",
    "        digit_counter = []\n",
    "        for digit in digits_list:\n",
    "            digit_counter.append((digit, int_digit.count(str(digit))))\n",
    "        \n",
    "        return digit_counter\n",
    "        \n",
    "# M1: double loop --> list\n",
    "# M2: dictionary --> loop dict into tuple\n",
    "\n",
    "\n",
    "counter = List()              \n",
    "int_lst = [-11, 7, 8, 99, 10]\n",
    "dig_lst = [1, 9, 4]\n",
    "counter.count_spec_digits(int_lst, dig_lst)\n",
    "\n",
    "\n",
    "  \n",
    "    \n",
    "# test = [-11, 7, 8, 99]\n",
    "# test_s = \"\".join(map(str, test))\n",
    "\n",
    "# import re\n",
    "# re.findall(r'[0-9]', test_s)"
   ]
  },
  {
   "cell_type": "code",
   "execution_count": null,
   "id": "a77cbafb",
   "metadata": {},
   "outputs": [],
   "source": []
  }
 ],
 "metadata": {
  "kernelspec": {
   "display_name": "Python 3 (ipykernel)",
   "language": "python",
   "name": "python3"
  },
  "language_info": {
   "codemirror_mode": {
    "name": "ipython",
    "version": 3
   },
   "file_extension": ".py",
   "mimetype": "text/x-python",
   "name": "python",
   "nbconvert_exporter": "python",
   "pygments_lexer": "ipython3",
   "version": "3.9.13"
  }
 },
 "nbformat": 4,
 "nbformat_minor": 5
}
