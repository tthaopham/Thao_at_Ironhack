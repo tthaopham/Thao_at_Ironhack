{
 "cells": [
  {
   "cell_type": "markdown",
   "id": "225f1160",
   "metadata": {},
   "source": [
    "* [Remove All The Marked Elements of a List](https://www.codewars.com/kata/remove-all-the-marked-elements-of-a-list)\n",
    "* [Method For Counting Total Occurence Of Specific Digits](https://www.codewars.com/kata/method-for-counting-total-occurence-of-specific-digits)\n",
    "* [Ordered Count of Characters](https://www.codewars.com/kata/ordered-count-of-characters)"
   ]
  },
  {
   "cell_type": "markdown",
   "id": "dca083db",
   "metadata": {},
   "source": [
    "1_codewar_remove_marked_element"
   ]
  },
  {
   "cell_type": "code",
   "execution_count": 13,
   "id": "1261f786",
   "metadata": {},
   "outputs": [
    {
     "data": {
      "text/plain": [
       "[8, 7, 6, 5, 1]"
      ]
     },
     "execution_count": 13,
     "metadata": {},
     "output_type": "execute_result"
    }
   ],
   "source": [
    "class List:\n",
    "    def remove_(self, integer_list, values_list):\n",
    "        remain_list = []\n",
    "        for i in integer_list:\n",
    "            if not i in values_list:\n",
    "                remain_list.append(i)\n",
    "        return remain_list\n",
    "    \n",
    "    \n",
    "counter = List()\n",
    "int_lst = [8, 2, 7, 2, 3, 4, 6, 5, 4, 4, 1, 2, 3]\n",
    "val_lst = [2, 4, 3]\n",
    "counter.remove_(int_lst, val_lst)\n"
   ]
  },
  {
   "cell_type": "markdown",
   "id": "e0e1907d",
   "metadata": {},
   "source": [
    "2_codewar_count_occurrence = same as lab 10 (done)"
   ]
  },
  {
   "cell_type": "markdown",
   "id": "770f4e20",
   "metadata": {},
   "source": [
    "3_codewar_ordered_count_character\n",
    "ordered_count(\"abracadabra\") == [('a', 5), ('b', 2), ('r', 2), ('c', 1), ('d', 1)]"
   ]
  },
  {
   "cell_type": "code",
   "execution_count": 26,
   "id": "fac401bb",
   "metadata": {},
   "outputs": [
    {
     "data": {
      "text/plain": [
       "[('S', 1),\n",
       " ('u', 2),\n",
       " ('p', 2),\n",
       " ('e', 2),\n",
       " ('r', 2),\n",
       " ('c', 3),\n",
       " ('a', 3),\n",
       " ('l', 3),\n",
       " ('i', 7),\n",
       " ('f', 1),\n",
       " ('g', 1),\n",
       " ('s', 2),\n",
       " ('t', 1),\n",
       " ('x', 1),\n",
       " ('d', 1),\n",
       " ('o', 2)]"
      ]
     },
     "execution_count": 26,
     "metadata": {},
     "output_type": "execute_result"
    }
   ],
   "source": [
    "def ordered_count(inp):\n",
    "    dict_count = {}\n",
    "    for i in inp:\n",
    "        dict_count[i] = inp.count(i)\n",
    "    count_list = []\n",
    "    for key, value in dict_count.items():\n",
    "        count_list.append((key, value))\n",
    "    return count_list\n",
    "\n",
    "inp = \"Supercalifragilisticexpialidocious\"\n",
    "ordered_count(inp)\n",
    "\n",
    "# from collections import Counter\n",
    "\n",
    "# def ordered_count(input):\n",
    "#     return list(Counter(input).items())\n"
   ]
  },
  {
   "cell_type": "code",
   "execution_count": null,
   "id": "a7c6657f",
   "metadata": {},
   "outputs": [],
   "source": []
  }
 ],
 "metadata": {
  "kernelspec": {
   "display_name": "Python 3 (ipykernel)",
   "language": "python",
   "name": "python3"
  },
  "language_info": {
   "codemirror_mode": {
    "name": "ipython",
    "version": 3
   },
   "file_extension": ".py",
   "mimetype": "text/x-python",
   "name": "python",
   "nbconvert_exporter": "python",
   "pygments_lexer": "ipython3",
   "version": "3.9.13"
  }
 },
 "nbformat": 4,
 "nbformat_minor": 5
}
